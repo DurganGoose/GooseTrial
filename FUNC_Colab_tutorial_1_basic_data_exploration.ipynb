{
  "cells": [
    {
      "cell_type": "markdown",
      "id": "61e94338-82e2-4ec3-9fbb-06a14d998199",
      "metadata": {
        "id": "61e94338-82e2-4ec3-9fbb-06a14d998199"
      },
      "source": [
        "### Basic data exploration"
      ]
    },
    {
      "cell_type": "markdown",
      "id": "c1c962d6-9833-4c3a-a329-01773bc94320",
      "metadata": {
        "id": "c1c962d6-9833-4c3a-a329-01773bc94320"
      },
      "source": [
        "Notes:\n",
        "\n",
        "Python is a great tool for data science, because many useful methods of analysis are available to us on centrally shared repositories, such as PyPI (the PYthon packaging Index). These methods are collected in to libraries. In order to use these functions, the relevant libraries must be installed, and then imported. In some cases, we give the library a shorter name since we will be writing it regularly. For example, importing pandas, the tool for manipulating one- and two-dimensional datasets, we write:\n",
        "```import pandas as pd```, renaming the pandas library as `pd` in this notebook.\n",
        "\n",
        "func-ai -> common imports"
      ]
    },
    {
      "cell_type": "code",
      "execution_count": null,
      "id": "2ac8eaec-427a-4614-907d-66ffbada8707",
      "metadata": {
        "id": "2ac8eaec-427a-4614-907d-66ffbada8707"
      },
      "outputs": [],
      "source": [
        "## Open func-ai, and click on common imports. Copy the code here and then execute the cell.\n",
        "\n",
        "import pandas as pd\n",
        "import numpy as np\n",
        "import scipy as sp\n",
        "import seaborn as sns\n",
        "import matplotlib   ### note to func-ai --> this is probably unnecessary\n",
        "from matplotlib import pyplot as plt\n"
      ]
    },
    {
      "cell_type": "markdown",
      "id": "5a42b277-8ed2-4d72-acbf-94d9e8f59a50",
      "metadata": {
        "id": "5a42b277-8ed2-4d72-acbf-94d9e8f59a50"
      },
      "source": [
        "\n"
      ]
    },
    {
      "cell_type": "markdown",
      "id": "25c380d5-bd9e-4ce9-89f2-63ea7f21a24c",
      "metadata": {
        "id": "25c380d5-bd9e-4ce9-89f2-63ea7f21a24c"
      },
      "source": [
        "Note: First we will read in some data and calculate some basic statistics. Here we use Pandas, and SciPy. Pandas is a popular Python library for data manipulation and analysis. SciPy is a library containing a range of useful functions for statistics, scientific research and engineering.\n",
        "\n",
        "Here, we will load the [adult](https://archive.ics.uci.edu/dataset/2/adult) dataset, an open source dataset based on a sample of US census data collected in 1994.\n",
        "\n",
        "We name the dataset `data`, and use the pandas `read_csv` function to load this dataset from a url. This would also work if the dataset was available locally - in this case the url would be replaced with a local filepath."
      ]
    },
    {
      "cell_type": "code",
      "source": [
        "from google.colab import drive\n",
        "drive.mount('/content/drive')"
      ],
      "metadata": {
        "colab": {
          "base_uri": "https://localhost:8080/"
        },
        "id": "8hCJajW4bQ_5",
        "outputId": "7360a920-26bd-49af-bc75-6ee7f013a491"
      },
      "id": "8hCJajW4bQ_5",
      "execution_count": null,
      "outputs": [
        {
          "output_type": "stream",
          "name": "stdout",
          "text": [
            "Mounted at /content/drive\n"
          ]
        }
      ]
    },
    {
      "cell_type": "code",
      "execution_count": null,
      "id": "0b8edd42-57a3-4c6b-9ff3-f88e613cd221",
      "metadata": {
        "colab": {
          "base_uri": "https://localhost:8080/"
        },
        "id": "0b8edd42-57a3-4c6b-9ff3-f88e613cd221",
        "outputId": "f80849f1-5852-42e3-fab4-f7be56ce3e2e"
      },
      "outputs": [
        {
          "output_type": "stream",
          "name": "stdout",
          "text": [
            "Mounted at /content/gdrive\n"
          ]
        }
      ],
      "source": [
        "from google.colab import drive\n",
        "drive.mount('/content/gdrive', force_remount=True)\n",
        "\n"
      ]
    },
    {
      "cell_type": "code",
      "source": [
        "data = pd.read_csv('/content/drive/MyDrive/SampleData/adult.csv')"
      ],
      "metadata": {
        "id": "1uZDGNV_9mIE"
      },
      "id": "1uZDGNV_9mIE",
      "execution_count": null,
      "outputs": []
    },
    {
      "cell_type": "markdown",
      "id": "d80149c5-1823-4283-a9be-9a860268b018",
      "metadata": {
        "id": "d80149c5-1823-4283-a9be-9a860268b018"
      },
      "source": [
        "Note --- First we will look at a small sample of the data. It is important to know what the columns of our table are named."
      ]
    },
    {
      "cell_type": "code",
      "execution_count": null,
      "id": "1e0f0dbd-4bd4-4f7c-8e1d-b1a3bb3c7229",
      "metadata": {
        "id": "1e0f0dbd-4bd4-4f7c-8e1d-b1a3bb3c7229"
      },
      "outputs": [],
      "source": []
    },
    {
      "cell_type": "markdown",
      "id": "12ddaadd-5815-48d0-b792-a39624344e91",
      "metadata": {
        "id": "12ddaadd-5815-48d0-b792-a39624344e91"
      },
      "source": [
        "We see that the table has 15 columns, each column having a name such as 'age', 'workclass', etc. Further information about the data can be found on [this website](https://archive.ics.uci.edu/dataset/2/adult). It is important to notice that some columns contain numeric data, others contain text. Later we will see how we can use data science techniques with text data.\n",
        "\n"
      ]
    },
    {
      "cell_type": "markdown",
      "id": "71975182-dca9-4542-a5dc-5b7453961450",
      "metadata": {
        "id": "71975182-dca9-4542-a5dc-5b7453961450"
      },
      "source": [
        "Let's look at the data type for each column.\n",
        "\n",
        "func-ai --> Data Profiling --> Descriptive\n",
        "\n"
      ]
    },
    {
      "cell_type": "code",
      "execution_count": null,
      "id": "70b19795-6142-4df6-bd0c-ecff5c9e7e15",
      "metadata": {
        "id": "70b19795-6142-4df6-bd0c-ecff5c9e7e15"
      },
      "outputs": [],
      "source": [
        "\n"
      ]
    },
    {
      "cell_type": "markdown",
      "id": "da979aa3-774a-436e-b1c8-9b98429b5b94",
      "metadata": {
        "id": "da979aa3-774a-436e-b1c8-9b98429b5b94"
      },
      "source": [
        "Now we calculate some descriptive statistics about the data set.\n",
        "\n",
        "func-ai --> menu --> exploratory data analysis --> summary stats"
      ]
    },
    {
      "cell_type": "code",
      "execution_count": null,
      "id": "0a1328fe-0f9c-40dd-9a4c-96cbb51885e3",
      "metadata": {
        "id": "0a1328fe-0f9c-40dd-9a4c-96cbb51885e3"
      },
      "outputs": [],
      "source": [
        "\n"
      ]
    },
    {
      "cell_type": "markdown",
      "id": "b793ee01-aacf-4e48-a2a5-5274c7ec6ae1",
      "metadata": {
        "id": "b793ee01-aacf-4e48-a2a5-5274c7ec6ae1"
      },
      "source": [
        "The `describe` function counts the number of rows in the dataset, the mean, standard deviation, min and max values, and the 25th, 50th and 75th percentiles of each numerical column in the dataset. Notice that the non-numeric columns are not included in this analysis."
      ]
    },
    {
      "cell_type": "markdown",
      "id": "0b23be01-4191-4704-bd0d-c132463c8194",
      "metadata": {
        "id": "0b23be01-4191-4704-bd0d-c132463c8194"
      },
      "source": [
        "Let's take a look at one of the non-numerical columns, by counting how many of each entry there are in the \"marital-status\" feature:\n",
        "\n",
        "func-ai -> exploratory data analysis -> feature profiles\n",
        "\n"
      ]
    },
    {
      "cell_type": "code",
      "execution_count": null,
      "id": "8774df40-1897-4986-8c28-e3ee83a12397",
      "metadata": {
        "id": "8774df40-1897-4986-8c28-e3ee83a12397"
      },
      "outputs": [],
      "source": [
        "\n"
      ]
    },
    {
      "cell_type": "markdown",
      "id": "e092c26e-13b8-4905-b763-10fdbbd22392",
      "metadata": {
        "id": "e092c26e-13b8-4905-b763-10fdbbd22392"
      },
      "source": [
        "We can also look at value counts for multiple columns at the same time. Notice that feature names must be separated by a comma.\n",
        "\n",
        "func-ai -> exploratory data analysis -> value count"
      ]
    },
    {
      "cell_type": "code",
      "execution_count": null,
      "id": "9d45cd02-b962-4fa9-ad15-a1b35dba919e",
      "metadata": {
        "id": "9d45cd02-b962-4fa9-ad15-a1b35dba919e"
      },
      "outputs": [],
      "source": []
    },
    {
      "cell_type": "markdown",
      "id": "3f500ebd-0fed-4e2f-a603-6f0363e3b7a4",
      "metadata": {
        "id": "3f500ebd-0fed-4e2f-a603-6f0363e3b7a4"
      },
      "source": []
    },
    {
      "cell_type": "markdown",
      "id": "87ba2080-54b6-494f-8b73-8c83910ab340",
      "metadata": {
        "id": "87ba2080-54b6-494f-8b73-8c83910ab340"
      },
      "source": [
        "We can see how many unique values there are in each column:\n",
        "\n",
        "func-ai -> exploratory data analysis -> cardinality check"
      ]
    },
    {
      "cell_type": "markdown",
      "source": [],
      "metadata": {
        "id": "bhPaqITduxxs"
      },
      "id": "bhPaqITduxxs"
    },
    {
      "cell_type": "code",
      "execution_count": null,
      "id": "b5181b2f-709e-49df-8750-3f770d505100",
      "metadata": {
        "id": "b5181b2f-709e-49df-8750-3f770d505100"
      },
      "outputs": [],
      "source": [
        "\n",
        "\n"
      ]
    },
    {
      "cell_type": "markdown",
      "id": "bad78c33-a463-4154-a4f3-1cdce2ce465f",
      "metadata": {
        "id": "bad78c33-a463-4154-a4f3-1cdce2ce465f"
      },
      "source": [
        "func-ai -> menu -> visualisation -> heatmap"
      ]
    },
    {
      "cell_type": "markdown",
      "id": "75253e29-0fbd-4226-ac92-3d18ef425998",
      "metadata": {
        "id": "75253e29-0fbd-4226-ac92-3d18ef425998"
      },
      "source": [
        "Note: We can also draw a heatmap, which requires us to create a cross-sectional table of two categorical variables, and then plot the value for each entry on a spectrum from highest to lowest."
      ]
    },
    {
      "cell_type": "code",
      "execution_count": null,
      "id": "d270f0b5-5422-4445-937d-ae70e93e1969",
      "metadata": {
        "id": "d270f0b5-5422-4445-937d-ae70e93e1969"
      },
      "outputs": [],
      "source": [
        "\n"
      ]
    },
    {
      "cell_type": "markdown",
      "id": "c8acb149-5f82-46ad-a22c-58570794f5d3",
      "metadata": {
        "id": "c8acb149-5f82-46ad-a22c-58570794f5d3"
      },
      "source": [
        "Let's plot a histogram for the numerical features in the table. You can select one or multiple features.\n",
        "\n",
        "func-ai -> menu -> visualisation -> histogram"
      ]
    },
    {
      "cell_type": "code",
      "execution_count": null,
      "id": "c79c2407-a617-41c6-97ac-508db71be00c",
      "metadata": {
        "id": "c79c2407-a617-41c6-97ac-508db71be00c"
      },
      "outputs": [],
      "source": [
        "\n",
        "\n"
      ]
    },
    {
      "cell_type": "markdown",
      "id": "fea69ce1-41f8-4446-b4d0-5dbddaced2ef",
      "metadata": {
        "id": "fea69ce1-41f8-4446-b4d0-5dbddaced2ef"
      },
      "source": [
        "func-ai -> menu -> visualisation -> barchart"
      ]
    },
    {
      "cell_type": "markdown",
      "id": "2f7fc21c-1434-489e-ab79-50a39030c6cb",
      "metadata": {
        "id": "2f7fc21c-1434-489e-ab79-50a39030c6cb"
      },
      "source": [
        "QUICK QUIZ :)   If you now wanted to plot age along side fnwght how would you do it? You could of course go back into Func and rerun the command.  But Func is also intended to give you a smooth and safe guided path, so now you have working code, why not take a try yourself.  And if it doesn't work, that's no problem.  Just run it again in Func and keep learning!"
      ]
    },
    {
      "cell_type": "code",
      "execution_count": null,
      "id": "5601f9e6-4578-4e60-84e7-3a49f0cbf647",
      "metadata": {
        "id": "5601f9e6-4578-4e60-84e7-3a49f0cbf647"
      },
      "outputs": [],
      "source": [
        "\n"
      ]
    },
    {
      "cell_type": "code",
      "execution_count": null,
      "id": "f8b4aa85-41bb-4f1b-b721-4e80f6332986",
      "metadata": {
        "id": "f8b4aa85-41bb-4f1b-b721-4e80f6332986"
      },
      "outputs": [],
      "source": [
        "\n",
        "\n"
      ]
    },
    {
      "cell_type": "code",
      "execution_count": null,
      "id": "216295f8-4bdf-4a54-95d1-de5d1b8e4068",
      "metadata": {
        "id": "216295f8-4bdf-4a54-95d1-de5d1b8e4068"
      },
      "outputs": [],
      "source": []
    }
  ],
  "metadata": {
    "kernelspec": {
      "display_name": "Python 3 (ipykernel)",
      "language": "python",
      "name": "python3"
    },
    "language_info": {
      "codemirror_mode": {
        "name": "ipython",
        "version": 3
      },
      "file_extension": ".py",
      "mimetype": "text/x-python",
      "name": "python",
      "nbconvert_exporter": "python",
      "pygments_lexer": "ipython3",
      "version": "3.9.7"
    },
    "colab": {
      "provenance": []
    }
  },
  "nbformat": 4,
  "nbformat_minor": 5
}