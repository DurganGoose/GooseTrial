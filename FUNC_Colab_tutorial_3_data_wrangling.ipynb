{
  "cells": [
    {
      "cell_type": "markdown",
      "id": "61e94338-82e2-4ec3-9fbb-06a14d998199",
      "metadata": {
        "id": "61e94338-82e2-4ec3-9fbb-06a14d998199"
      },
      "source": [
        "### Data Wrangling"
      ]
    },
    {
      "cell_type": "markdown",
      "id": "1a70ff18-ee14-4fb4-8cac-f30e9c05eeb1",
      "metadata": {
        "id": "1a70ff18-ee14-4fb4-8cac-f30e9c05eeb1"
      },
      "source": [
        "The journey from raw data to meaningful insights often begins with data wrangling. This essential process involves cleaning, transforming, and shaping data into a format that is suitable for analysis. We'll explore the essential techniques for cleaning, transforming, and preparing data for analysis, equipping you with the skills to extract meaningful insights from your datasets."
      ]
    },
    {
      "cell_type": "code",
      "execution_count": null,
      "id": "111eeb40-8321-4d9f-a4f9-87f9b2087850",
      "metadata": {
        "id": "111eeb40-8321-4d9f-a4f9-87f9b2087850"
      },
      "outputs": [],
      "source": [
        "## As usual, import commonly used libraries first\n",
        "## common imports\n",
        "\n",
        "import pandas as pd\n",
        "import numpy as np\n",
        "import scipy as sp\n",
        "import seaborn as sns\n",
        "import matplotlib\n",
        "from matplotlib import pyplot as plt\n"
      ]
    },
    {
      "cell_type": "code",
      "source": [
        "from google.colab import drive\n",
        "drive.mount('/content/drive')"
      ],
      "metadata": {
        "colab": {
          "base_uri": "https://localhost:8080/"
        },
        "id": "tKFcxx1phrU2",
        "outputId": "5666dc8f-862b-4beb-89ad-8b664137a067"
      },
      "id": "tKFcxx1phrU2",
      "execution_count": null,
      "outputs": [
        {
          "output_type": "stream",
          "name": "stdout",
          "text": [
            "Mounted at /content/drive\n"
          ]
        }
      ]
    },
    {
      "cell_type": "code",
      "execution_count": null,
      "id": "0b8edd42-57a3-4c6b-9ff3-f88e613cd221",
      "metadata": {
        "id": "0b8edd42-57a3-4c6b-9ff3-f88e613cd221"
      },
      "outputs": [],
      "source": [
        "\n",
        "data = pd.read_csv(\"/content/drive/MyDrive/SampleData/adult_wrangling.csv\")"
      ]
    },
    {
      "cell_type": "markdown",
      "id": "99108053-70ea-430e-b192-4203768bda70",
      "metadata": {
        "id": "99108053-70ea-430e-b192-4203768bda70"
      },
      "source": [
        "You have been asked by a stakeholder to re-categorise the workclass column in to two groups: public-sector and private-sector.\n",
        "\n",
        "Use the func-ai -> data wrangling -> Recode to map the groups Local-gov, State-gov and Federal-gov to public-sector"
      ]
    },
    {
      "cell_type": "code",
      "source": [],
      "metadata": {
        "id": "GSlLhzMIfU5b"
      },
      "id": "GSlLhzMIfU5b",
      "execution_count": null,
      "outputs": []
    },
    {
      "cell_type": "markdown",
      "id": "f1739554-6e37-4d98-9a54-0deaeddbbaf7",
      "metadata": {
        "id": "f1739554-6e37-4d98-9a54-0deaeddbbaf7"
      },
      "source": [
        "Exercise: Recode the remaining values in workclass as private-sector. You can see the unique values by using func-ai -> Feature profiles\n"
      ]
    },
    {
      "cell_type": "markdown",
      "id": "fac23ac0-5645-44d4-9661-bb19ade57fef",
      "metadata": {
        "id": "fac23ac0-5645-44d4-9661-bb19ade57fef"
      },
      "source": [
        "Now we can quickly filter the data to only public-sector workers.\n",
        "\n",
        "func-ai -> data-wrangling -> filter\n",
        "\n"
      ]
    },
    {
      "cell_type": "markdown",
      "id": "3e3aaf5c-ff17-4a5b-acfb-df72dc64174f",
      "metadata": {
        "id": "3e3aaf5c-ff17-4a5b-acfb-df72dc64174f"
      },
      "source": [
        "name of dataset  -- data\n",
        "name of column to filter  -- workclass\n",
        "(what type of data: number, string) -- string\n",
        "what is the value you want to filter --- public-sector\n",
        "\n",
        "`data.query(\"workclass == 'public-sector'\")`\n",
        "\n",
        "tip -> as it was written, point the pandas documentation"
      ]
    },
    {
      "cell_type": "code",
      "source": [
        "\n"
      ],
      "metadata": {
        "id": "QgsobRc7gV-f"
      },
      "id": "QgsobRc7gV-f",
      "execution_count": null,
      "outputs": []
    },
    {
      "cell_type": "code",
      "execution_count": null,
      "id": "256d3096-13b2-46f1-abe6-7bc99277d0c8",
      "metadata": {
        "scrolled": true,
        "id": "256d3096-13b2-46f1-abe6-7bc99277d0c8"
      },
      "outputs": [],
      "source": [
        "\n"
      ]
    },
    {
      "cell_type": "markdown",
      "id": "f92f86e0-6de6-422b-bc98-280086e7c273",
      "metadata": {
        "id": "f92f86e0-6de6-422b-bc98-280086e7c273"
      },
      "source": [
        "Stakeholders have asked for a sample of 1% of the data. They would like the sample to be representative of different workclass groups.\n",
        "\n",
        "func-ai -> wrangling -> sampling -> stratified -> proportional\n",
        "\n",
        "note: this should be `sample = ...`"
      ]
    },
    {
      "cell_type": "code",
      "execution_count": null,
      "id": "75a71434-23b3-4e42-b7fa-99bef8381b31",
      "metadata": {
        "scrolled": true,
        "id": "75a71434-23b3-4e42-b7fa-99bef8381b31"
      },
      "outputs": [],
      "source": [
        "\n"
      ]
    },
    {
      "cell_type": "markdown",
      "id": "0b3a79be-c204-429a-8797-b5a0b4133e85",
      "metadata": {
        "id": "0b3a79be-c204-429a-8797-b5a0b4133e85"
      },
      "source": [
        "Now check that the value counts of workclass are in the same proportion as the whole dataset. Compare the sample with the whole dataset. They should be approximately 100 times larger for the main dataset.\n",
        "\n",
        "func-ai -> exploratory data analysis -> value count"
      ]
    },
    {
      "cell_type": "code",
      "execution_count": null,
      "id": "88e6a48b-c600-41db-b688-a3a70992aff6",
      "metadata": {
        "id": "88e6a48b-c600-41db-b688-a3a70992aff6"
      },
      "outputs": [],
      "source": [
        "\n"
      ]
    },
    {
      "cell_type": "code",
      "execution_count": null,
      "id": "b62b1e99-2c58-4211-90e7-51610c665397",
      "metadata": {
        "id": "b62b1e99-2c58-4211-90e7-51610c665397"
      },
      "outputs": [],
      "source": [
        "\n"
      ]
    },
    {
      "cell_type": "markdown",
      "id": "6e0d3483-0e7c-4dd2-a720-8c0ffd1e8336",
      "metadata": {
        "id": "6e0d3483-0e7c-4dd2-a720-8c0ffd1e8336"
      },
      "source": [
        "Now the stakeholder has asked you to identify how many people are in the top age decile. However, they also inform you that there was an issue with the data collection meaning that the age of people was not always recorded for people aged 60 and over.\n",
        "\n",
        "First, we will fill these missing values with 75, since this is the midpoint of the highest age group.\n",
        "\n",
        "func-ai -> data wrangling -> Missing values treatment -> fill\n",
        "\n",
        "\n",
        "Then we will answer the stakeholder question about the top decile.\n",
        "This requires two steps: calculate a new column called age_decile with the calculated deciles that each person's age belongs to, and then use value_counts.\n",
        "\n",
        "func-ai -> data-wrangling -> bin -> decile\n",
        "\n",
        "func-ai -> feature profiling - data-profiling"
      ]
    },
    {
      "cell_type": "markdown",
      "id": "4abebaeb-43bc-4f4e-b1cd-4789cf84d013",
      "metadata": {
        "id": "4abebaeb-43bc-4f4e-b1cd-4789cf84d013"
      },
      "source": []
    },
    {
      "cell_type": "code",
      "source": [
        "\n"
      ],
      "metadata": {
        "id": "NJiIDlBS4QtC"
      },
      "id": "NJiIDlBS4QtC",
      "execution_count": null,
      "outputs": []
    },
    {
      "cell_type": "code",
      "execution_count": null,
      "id": "504ae0dd-8e2f-4db5-9cd1-1adb476b94b2",
      "metadata": {
        "id": "504ae0dd-8e2f-4db5-9cd1-1adb476b94b2"
      },
      "outputs": [],
      "source": [
        "\n"
      ]
    },
    {
      "cell_type": "code",
      "execution_count": null,
      "id": "0dc37c02-9620-4d05-9931-6ced5db00beb",
      "metadata": {
        "id": "0dc37c02-9620-4d05-9931-6ced5db00beb"
      },
      "outputs": [],
      "source": []
    },
    {
      "cell_type": "code",
      "execution_count": null,
      "id": "61dd06b4-1408-4b0b-8174-47cb38be0976",
      "metadata": {
        "id": "61dd06b4-1408-4b0b-8174-47cb38be0976"
      },
      "outputs": [],
      "source": []
    },
    {
      "cell_type": "markdown",
      "id": "d0ca4732-f339-46eb-8900-ce9652cc1e3e",
      "metadata": {
        "id": "d0ca4732-f339-46eb-8900-ce9652cc1e3e"
      },
      "source": [
        "Exercise: Instead of using the fill option, use drop, and see the difference in the 58-90 age group decile."
      ]
    }
  ],
  "metadata": {
    "kernelspec": {
      "display_name": "Python 3 (ipykernel)",
      "language": "python",
      "name": "python3"
    },
    "language_info": {
      "codemirror_mode": {
        "name": "ipython",
        "version": 3
      },
      "file_extension": ".py",
      "mimetype": "text/x-python",
      "name": "python",
      "nbconvert_exporter": "python",
      "pygments_lexer": "ipython3",
      "version": "3.9.7"
    },
    "colab": {
      "provenance": []
    }
  },
  "nbformat": 4,
  "nbformat_minor": 5
}