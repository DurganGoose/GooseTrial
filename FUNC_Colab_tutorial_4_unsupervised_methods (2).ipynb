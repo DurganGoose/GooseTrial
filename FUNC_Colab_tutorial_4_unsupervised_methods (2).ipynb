{
  "cells": [
    {
      "cell_type": "markdown",
      "id": "61e94338-82e2-4ec3-9fbb-06a14d998199",
      "metadata": {
        "id": "61e94338-82e2-4ec3-9fbb-06a14d998199"
      },
      "source": [
        "### Unsupervised Methods"
      ]
    },
    {
      "cell_type": "markdown",
      "id": "c1c962d6-9833-4c3a-a329-01773bc94320",
      "metadata": {
        "id": "c1c962d6-9833-4c3a-a329-01773bc94320"
      },
      "source": [
        "Notes:\n",
        "\n",
        "In some cases, labelled data is not available, so we must rely on \"unsupervised\" methods in order to reveal patterns in data, and impose structure on it. In this tutorial we will introduce three approaches: dimensionality reduction using singular value decomposition, clustering using KMeans clustering, and anomaly detection using an isolation forest.\n",
        "\n",
        "func-ai -> common imports"
      ]
    },
    {
      "cell_type": "code",
      "execution_count": 1,
      "id": "2ac8eaec-427a-4614-907d-66ffbada8707",
      "metadata": {
        "id": "2ac8eaec-427a-4614-907d-66ffbada8707"
      },
      "outputs": [],
      "source": [
        "## Open func-ai, and click on common imports. Copy the code here and then execute the cell.\n",
        "\n",
        "import pandas as pd\n",
        "import numpy as np\n",
        "import scipy as sp\n",
        "import seaborn as sns\n",
        "import matplotlib   ### note to func-ai --> this is probably unnecessary\n",
        "from matplotlib import pyplot as plt\n"
      ]
    },
    {
      "cell_type": "markdown",
      "id": "25c380d5-bd9e-4ce9-89f2-63ea7f21a24c",
      "metadata": {
        "id": "25c380d5-bd9e-4ce9-89f2-63ea7f21a24c"
      },
      "source": [
        "Note: Again, we will load the [adult](https://archive.ics.uci.edu/dataset/2/adult) dataset, an open source dataset based on a sample of US census data collected in 1994.\n",
        "\n",
        "We name the dataset `data`, and use the pandas `read_csv` function to load this dataset"
      ]
    },
    {
      "cell_type": "code",
      "source": [
        "from google.colab import drive\n",
        "drive.mount('/content/drive')"
      ],
      "metadata": {
        "colab": {
          "base_uri": "https://localhost:8080/"
        },
        "id": "bNqGLZ1PjviX",
        "outputId": "6abfa352-1b76-4de9-d1dc-5f0cfd16833c"
      },
      "id": "bNqGLZ1PjviX",
      "execution_count": 2,
      "outputs": [
        {
          "output_type": "stream",
          "name": "stdout",
          "text": [
            "Mounted at /content/drive\n"
          ]
        }
      ]
    },
    {
      "cell_type": "code",
      "execution_count": 3,
      "id": "0b8edd42-57a3-4c6b-9ff3-f88e613cd221",
      "metadata": {
        "id": "0b8edd42-57a3-4c6b-9ff3-f88e613cd221"
      },
      "outputs": [],
      "source": [
        "data = pd.read_csv('/content/drive/MyDrive/SampleData/adult.csv')"
      ]
    },
    {
      "cell_type": "markdown",
      "id": "d80149c5-1823-4283-a9be-9a860268b018",
      "metadata": {
        "id": "d80149c5-1823-4283-a9be-9a860268b018"
      },
      "source": [
        "Note --- First we will look at a small sample of the data.\n",
        "\n",
        "You can try and do this yourself, it's the same as tutorial 1."
      ]
    },
    {
      "cell_type": "code",
      "execution_count": null,
      "id": "1e0f0dbd-4bd4-4f7c-8e1d-b1a3bb3c7229",
      "metadata": {
        "id": "1e0f0dbd-4bd4-4f7c-8e1d-b1a3bb3c7229"
      },
      "outputs": [],
      "source": []
    },
    {
      "cell_type": "markdown",
      "id": "64949dab-2ee5-4040-936c-7a8f61249af1",
      "metadata": {
        "id": "64949dab-2ee5-4040-936c-7a8f61249af1"
      },
      "source": [
        "We'll also check the column names again."
      ]
    },
    {
      "cell_type": "code",
      "execution_count": null,
      "id": "a742b614-0478-4c41-8b30-6a413a70ad43",
      "metadata": {
        "id": "a742b614-0478-4c41-8b30-6a413a70ad43"
      },
      "outputs": [],
      "source": []
    },
    {
      "cell_type": "markdown",
      "id": "b0698ed4-77a7-4831-8f6c-5316eaab70a4",
      "metadata": {
        "id": "b0698ed4-77a7-4831-8f6c-5316eaab70a4"
      },
      "source": [
        "As in tutorial 2 on modelling, we may need to do some additional work in order to include non-numerical features in our analysis, since our methods only take numeric data as inputs. To begin with however, lets focus on the numerical columns: age, fnlwgt, education-num, capital-gain, capital-loss, hours-per-week.\n",
        "\n",
        "We first look at clustering the data. Since we know the income data was in two classes, <50k and >50k, let's use 2 clusters.\n",
        "\n",
        "func-ai -> modelling -< cluster (2 clusters) -> K Means Clustering"
      ]
    },
    {
      "cell_type": "markdown",
      "id": "425cbbc8-832f-4e51-8e3c-d6705075eb04",
      "metadata": {
        "id": "425cbbc8-832f-4e51-8e3c-d6705075eb04"
      },
      "source": []
    },
    {
      "cell_type": "code",
      "execution_count": null,
      "id": "c397e0f5-9dfe-4d04-9e63-cd49c30d15ee",
      "metadata": {
        "id": "c397e0f5-9dfe-4d04-9e63-cd49c30d15ee"
      },
      "outputs": [],
      "source": [
        "\n"
      ]
    },
    {
      "cell_type": "markdown",
      "id": "a7003471-4f2c-4e93-9e39-eb4c8c4b8534",
      "metadata": {
        "id": "a7003471-4f2c-4e93-9e39-eb4c8c4b8534"
      },
      "source": [
        "We don't see much good separation between age and hours per week working.\n",
        "\n",
        "Use func-ai -> boxplot to look at the range of each feature in numeric-data"
      ]
    },
    {
      "cell_type": "code",
      "execution_count": null,
      "id": "322d7ee5-85c7-4aac-98b6-81639476960e",
      "metadata": {
        "id": "322d7ee5-85c7-4aac-98b6-81639476960e"
      },
      "outputs": [],
      "source": [
        "\n"
      ]
    },
    {
      "cell_type": "code",
      "source": [
        "\n"
      ],
      "metadata": {
        "id": "kNkk0mAosGQn"
      },
      "id": "kNkk0mAosGQn",
      "execution_count": null,
      "outputs": []
    },
    {
      "cell_type": "markdown",
      "id": "53cab4a6-6227-43b6-bfad-1b3ae9297ee6",
      "metadata": {
        "id": "53cab4a6-6227-43b6-bfad-1b3ae9297ee6"
      },
      "source": [
        "Let's try using a scaler to make sure the features are all on the same scale, otherwise fnlweight will dominate the model fitting because it is so much larger.\n",
        "\n",
        "func-ai -> data wrangling -> normalise\n"
      ]
    },
    {
      "cell_type": "code",
      "execution_count": null,
      "id": "bf1b57fb-bba4-4190-8cc2-dc7114577de3",
      "metadata": {
        "id": "bf1b57fb-bba4-4190-8cc2-dc7114577de3"
      },
      "outputs": [],
      "source": []
    },
    {
      "cell_type": "markdown",
      "id": "4dbfb839-0535-4473-a7fc-1f54406a0dba",
      "metadata": {
        "id": "4dbfb839-0535-4473-a7fc-1f54406a0dba"
      },
      "source": [
        "Then lets use KMeans on the scaled data."
      ]
    },
    {
      "cell_type": "code",
      "source": [],
      "metadata": {
        "id": "dNEGoTkFE-Gv"
      },
      "id": "dNEGoTkFE-Gv",
      "execution_count": null,
      "outputs": []
    },
    {
      "cell_type": "markdown",
      "id": "15fff2a6-9041-4989-b615-05ea324cf62d",
      "metadata": {
        "id": "15fff2a6-9041-4989-b615-05ea324cf62d"
      },
      "source": [
        "Now we can try using Principal component analysis, which is often an effective preprocessing step to using KMeans.\n",
        "\n",
        "func-ai -> modelling -> dimensionality reduction"
      ]
    },
    {
      "cell_type": "code",
      "source": [
        "import pandas as pd\n",
        "from sklearn.decomposition import PCA\n",
        "\n",
        "principal_components = 3\n",
        "columns_to_reduce = ['age','fnlwgt','education-num','capital-gain','capital-loss','hours-per-week']\n",
        "data = data.dropna()\n",
        "\n",
        "pca = PCA(n_components=principal_components)\n",
        "\n",
        "pca.fit(data[columns_to_reduce])\n",
        "transformed = pd.DataFrame(pca.transform(data[columns_to_reduce]),\n",
        "columns=[f\"PC {n+1}\" for n in range(principal_components)])\n",
        "\n",
        "df_new = pd.concat([data.drop(columns_to_reduce, axis=1), transformed], axis=1)\n",
        "print(df_new)\n",
        "\n",
        "transformed_df = pd.DataFrame(transformed)\n",
        "transformed_df.head()\n"
      ],
      "metadata": {
        "id": "16IOM_BD66ab",
        "colab": {
          "base_uri": "https://localhost:8080/",
          "height": 921
        },
        "outputId": "57900d84-65ce-4963-99b3-e72a40dfd9ac"
      },
      "id": "16IOM_BD66ab",
      "execution_count": 9,
      "outputs": [
        {
          "output_type": "stream",
          "name": "stdout",
          "text": [
            "          workclass     education      marital-status         occupation  \\\n",
            "0           Private          11th       Never-married  Machine-op-inspct   \n",
            "1           Private       HS-grad  Married-civ-spouse    Farming-fishing   \n",
            "2         Local-gov    Assoc-acdm  Married-civ-spouse    Protective-serv   \n",
            "3           Private  Some-college  Married-civ-spouse  Machine-op-inspct   \n",
            "4                 ?  Some-college       Never-married                  ?   \n",
            "...             ...           ...                 ...                ...   \n",
            "48837       Private    Assoc-acdm  Married-civ-spouse       Tech-support   \n",
            "48838       Private       HS-grad  Married-civ-spouse  Machine-op-inspct   \n",
            "48839       Private       HS-grad             Widowed       Adm-clerical   \n",
            "48840       Private       HS-grad       Never-married       Adm-clerical   \n",
            "48841  Self-emp-inc       HS-grad  Married-civ-spouse    Exec-managerial   \n",
            "\n",
            "      relationship   race     sex native-country  class  cluster  \\\n",
            "0        Own-child  Black    Male  United-States  <=50K        1   \n",
            "1          Husband  White    Male  United-States  <=50K        1   \n",
            "2          Husband  White    Male  United-States   >50K        1   \n",
            "3          Husband  Black    Male  United-States   >50K        0   \n",
            "4        Own-child  White  Female  United-States  <=50K        1   \n",
            "...            ...    ...     ...            ...    ...      ...   \n",
            "48837         Wife  White  Female  United-States  <=50K        1   \n",
            "48838      Husband  White    Male  United-States   >50K        1   \n",
            "48839    Unmarried  White  Female  United-States  <=50K        0   \n",
            "48840    Own-child  White    Male  United-States  <=50K        1   \n",
            "48841         Wife  White  Female  United-States   >50K        0   \n",
            "\n",
            "                PC 1          PC 2       PC 3  \n",
            "0       37138.149345  -1069.158049 -88.736001  \n",
            "1      -99849.846043  -1105.158679 -91.038016  \n",
            "2      147287.145485  -1040.207456 -86.840225  \n",
            "3      -29342.869347   6601.360791 -76.722070  \n",
            "4      -86166.846289  -1101.567958 -90.878443  \n",
            "...              ...           ...        ...  \n",
            "48837   67638.148265  -1061.141649 -88.210266  \n",
            "48838  -35289.848290  -1088.191755 -89.945534  \n",
            "48839  -37753.848383  -1088.836809 -89.951514  \n",
            "48840   11826.150284  -1075.813753 -89.209715  \n",
            "48841   98259.197855  13970.888369 -62.007875  \n",
            "\n",
            "[48842 rows x 13 columns]\n"
          ]
        },
        {
          "output_type": "execute_result",
          "data": {
            "text/plain": [
              "            PC 1         PC 2       PC 3\n",
              "0   37138.149345 -1069.158049 -88.736001\n",
              "1  -99849.846043 -1105.158679 -91.038016\n",
              "2  147287.145485 -1040.207456 -86.840225\n",
              "3  -29342.869347  6601.360791 -76.722070\n",
              "4  -86166.846289 -1101.567958 -90.878443"
            ],
            "text/html": [
              "\n",
              "  <div id=\"df-655bde33-2e40-4144-9fe9-0ed38e0392dc\" class=\"colab-df-container\">\n",
              "    <div>\n",
              "<style scoped>\n",
              "    .dataframe tbody tr th:only-of-type {\n",
              "        vertical-align: middle;\n",
              "    }\n",
              "\n",
              "    .dataframe tbody tr th {\n",
              "        vertical-align: top;\n",
              "    }\n",
              "\n",
              "    .dataframe thead th {\n",
              "        text-align: right;\n",
              "    }\n",
              "</style>\n",
              "<table border=\"1\" class=\"dataframe\">\n",
              "  <thead>\n",
              "    <tr style=\"text-align: right;\">\n",
              "      <th></th>\n",
              "      <th>PC 1</th>\n",
              "      <th>PC 2</th>\n",
              "      <th>PC 3</th>\n",
              "    </tr>\n",
              "  </thead>\n",
              "  <tbody>\n",
              "    <tr>\n",
              "      <th>0</th>\n",
              "      <td>37138.149345</td>\n",
              "      <td>-1069.158049</td>\n",
              "      <td>-88.736001</td>\n",
              "    </tr>\n",
              "    <tr>\n",
              "      <th>1</th>\n",
              "      <td>-99849.846043</td>\n",
              "      <td>-1105.158679</td>\n",
              "      <td>-91.038016</td>\n",
              "    </tr>\n",
              "    <tr>\n",
              "      <th>2</th>\n",
              "      <td>147287.145485</td>\n",
              "      <td>-1040.207456</td>\n",
              "      <td>-86.840225</td>\n",
              "    </tr>\n",
              "    <tr>\n",
              "      <th>3</th>\n",
              "      <td>-29342.869347</td>\n",
              "      <td>6601.360791</td>\n",
              "      <td>-76.722070</td>\n",
              "    </tr>\n",
              "    <tr>\n",
              "      <th>4</th>\n",
              "      <td>-86166.846289</td>\n",
              "      <td>-1101.567958</td>\n",
              "      <td>-90.878443</td>\n",
              "    </tr>\n",
              "  </tbody>\n",
              "</table>\n",
              "</div>\n",
              "    <div class=\"colab-df-buttons\">\n",
              "\n",
              "  <div class=\"colab-df-container\">\n",
              "    <button class=\"colab-df-convert\" onclick=\"convertToInteractive('df-655bde33-2e40-4144-9fe9-0ed38e0392dc')\"\n",
              "            title=\"Convert this dataframe to an interactive table.\"\n",
              "            style=\"display:none;\">\n",
              "\n",
              "  <svg xmlns=\"http://www.w3.org/2000/svg\" height=\"24px\" viewBox=\"0 -960 960 960\">\n",
              "    <path d=\"M120-120v-720h720v720H120Zm60-500h600v-160H180v160Zm220 220h160v-160H400v160Zm0 220h160v-160H400v160ZM180-400h160v-160H180v160Zm440 0h160v-160H620v160ZM180-180h160v-160H180v160Zm440 0h160v-160H620v160Z\"/>\n",
              "  </svg>\n",
              "    </button>\n",
              "\n",
              "  <style>\n",
              "    .colab-df-container {\n",
              "      display:flex;\n",
              "      gap: 12px;\n",
              "    }\n",
              "\n",
              "    .colab-df-convert {\n",
              "      background-color: #E8F0FE;\n",
              "      border: none;\n",
              "      border-radius: 50%;\n",
              "      cursor: pointer;\n",
              "      display: none;\n",
              "      fill: #1967D2;\n",
              "      height: 32px;\n",
              "      padding: 0 0 0 0;\n",
              "      width: 32px;\n",
              "    }\n",
              "\n",
              "    .colab-df-convert:hover {\n",
              "      background-color: #E2EBFA;\n",
              "      box-shadow: 0px 1px 2px rgba(60, 64, 67, 0.3), 0px 1px 3px 1px rgba(60, 64, 67, 0.15);\n",
              "      fill: #174EA6;\n",
              "    }\n",
              "\n",
              "    .colab-df-buttons div {\n",
              "      margin-bottom: 4px;\n",
              "    }\n",
              "\n",
              "    [theme=dark] .colab-df-convert {\n",
              "      background-color: #3B4455;\n",
              "      fill: #D2E3FC;\n",
              "    }\n",
              "\n",
              "    [theme=dark] .colab-df-convert:hover {\n",
              "      background-color: #434B5C;\n",
              "      box-shadow: 0px 1px 3px 1px rgba(0, 0, 0, 0.15);\n",
              "      filter: drop-shadow(0px 1px 2px rgba(0, 0, 0, 0.3));\n",
              "      fill: #FFFFFF;\n",
              "    }\n",
              "  </style>\n",
              "\n",
              "    <script>\n",
              "      const buttonEl =\n",
              "        document.querySelector('#df-655bde33-2e40-4144-9fe9-0ed38e0392dc button.colab-df-convert');\n",
              "      buttonEl.style.display =\n",
              "        google.colab.kernel.accessAllowed ? 'block' : 'none';\n",
              "\n",
              "      async function convertToInteractive(key) {\n",
              "        const element = document.querySelector('#df-655bde33-2e40-4144-9fe9-0ed38e0392dc');\n",
              "        const dataTable =\n",
              "          await google.colab.kernel.invokeFunction('convertToInteractive',\n",
              "                                                    [key], {});\n",
              "        if (!dataTable) return;\n",
              "\n",
              "        const docLinkHtml = 'Like what you see? Visit the ' +\n",
              "          '<a target=\"_blank\" href=https://colab.research.google.com/notebooks/data_table.ipynb>data table notebook</a>'\n",
              "          + ' to learn more about interactive tables.';\n",
              "        element.innerHTML = '';\n",
              "        dataTable['output_type'] = 'display_data';\n",
              "        await google.colab.output.renderOutput(dataTable, element);\n",
              "        const docLink = document.createElement('div');\n",
              "        docLink.innerHTML = docLinkHtml;\n",
              "        element.appendChild(docLink);\n",
              "      }\n",
              "    </script>\n",
              "  </div>\n",
              "\n",
              "\n",
              "<div id=\"df-0796eb9d-7660-4399-8126-1572c541b19f\">\n",
              "  <button class=\"colab-df-quickchart\" onclick=\"quickchart('df-0796eb9d-7660-4399-8126-1572c541b19f')\"\n",
              "            title=\"Suggest charts\"\n",
              "            style=\"display:none;\">\n",
              "\n",
              "<svg xmlns=\"http://www.w3.org/2000/svg\" height=\"24px\"viewBox=\"0 0 24 24\"\n",
              "     width=\"24px\">\n",
              "    <g>\n",
              "        <path d=\"M19 3H5c-1.1 0-2 .9-2 2v14c0 1.1.9 2 2 2h14c1.1 0 2-.9 2-2V5c0-1.1-.9-2-2-2zM9 17H7v-7h2v7zm4 0h-2V7h2v10zm4 0h-2v-4h2v4z\"/>\n",
              "    </g>\n",
              "</svg>\n",
              "  </button>\n",
              "\n",
              "<style>\n",
              "  .colab-df-quickchart {\n",
              "      --bg-color: #E8F0FE;\n",
              "      --fill-color: #1967D2;\n",
              "      --hover-bg-color: #E2EBFA;\n",
              "      --hover-fill-color: #174EA6;\n",
              "      --disabled-fill-color: #AAA;\n",
              "      --disabled-bg-color: #DDD;\n",
              "  }\n",
              "\n",
              "  [theme=dark] .colab-df-quickchart {\n",
              "      --bg-color: #3B4455;\n",
              "      --fill-color: #D2E3FC;\n",
              "      --hover-bg-color: #434B5C;\n",
              "      --hover-fill-color: #FFFFFF;\n",
              "      --disabled-bg-color: #3B4455;\n",
              "      --disabled-fill-color: #666;\n",
              "  }\n",
              "\n",
              "  .colab-df-quickchart {\n",
              "    background-color: var(--bg-color);\n",
              "    border: none;\n",
              "    border-radius: 50%;\n",
              "    cursor: pointer;\n",
              "    display: none;\n",
              "    fill: var(--fill-color);\n",
              "    height: 32px;\n",
              "    padding: 0;\n",
              "    width: 32px;\n",
              "  }\n",
              "\n",
              "  .colab-df-quickchart:hover {\n",
              "    background-color: var(--hover-bg-color);\n",
              "    box-shadow: 0 1px 2px rgba(60, 64, 67, 0.3), 0 1px 3px 1px rgba(60, 64, 67, 0.15);\n",
              "    fill: var(--button-hover-fill-color);\n",
              "  }\n",
              "\n",
              "  .colab-df-quickchart-complete:disabled,\n",
              "  .colab-df-quickchart-complete:disabled:hover {\n",
              "    background-color: var(--disabled-bg-color);\n",
              "    fill: var(--disabled-fill-color);\n",
              "    box-shadow: none;\n",
              "  }\n",
              "\n",
              "  .colab-df-spinner {\n",
              "    border: 2px solid var(--fill-color);\n",
              "    border-color: transparent;\n",
              "    border-bottom-color: var(--fill-color);\n",
              "    animation:\n",
              "      spin 1s steps(1) infinite;\n",
              "  }\n",
              "\n",
              "  @keyframes spin {\n",
              "    0% {\n",
              "      border-color: transparent;\n",
              "      border-bottom-color: var(--fill-color);\n",
              "      border-left-color: var(--fill-color);\n",
              "    }\n",
              "    20% {\n",
              "      border-color: transparent;\n",
              "      border-left-color: var(--fill-color);\n",
              "      border-top-color: var(--fill-color);\n",
              "    }\n",
              "    30% {\n",
              "      border-color: transparent;\n",
              "      border-left-color: var(--fill-color);\n",
              "      border-top-color: var(--fill-color);\n",
              "      border-right-color: var(--fill-color);\n",
              "    }\n",
              "    40% {\n",
              "      border-color: transparent;\n",
              "      border-right-color: var(--fill-color);\n",
              "      border-top-color: var(--fill-color);\n",
              "    }\n",
              "    60% {\n",
              "      border-color: transparent;\n",
              "      border-right-color: var(--fill-color);\n",
              "    }\n",
              "    80% {\n",
              "      border-color: transparent;\n",
              "      border-right-color: var(--fill-color);\n",
              "      border-bottom-color: var(--fill-color);\n",
              "    }\n",
              "    90% {\n",
              "      border-color: transparent;\n",
              "      border-bottom-color: var(--fill-color);\n",
              "    }\n",
              "  }\n",
              "</style>\n",
              "\n",
              "  <script>\n",
              "    async function quickchart(key) {\n",
              "      const quickchartButtonEl =\n",
              "        document.querySelector('#' + key + ' button');\n",
              "      quickchartButtonEl.disabled = true;  // To prevent multiple clicks.\n",
              "      quickchartButtonEl.classList.add('colab-df-spinner');\n",
              "      try {\n",
              "        const charts = await google.colab.kernel.invokeFunction(\n",
              "            'suggestCharts', [key], {});\n",
              "      } catch (error) {\n",
              "        console.error('Error during call to suggestCharts:', error);\n",
              "      }\n",
              "      quickchartButtonEl.classList.remove('colab-df-spinner');\n",
              "      quickchartButtonEl.classList.add('colab-df-quickchart-complete');\n",
              "    }\n",
              "    (() => {\n",
              "      let quickchartButtonEl =\n",
              "        document.querySelector('#df-0796eb9d-7660-4399-8126-1572c541b19f button');\n",
              "      quickchartButtonEl.style.display =\n",
              "        google.colab.kernel.accessAllowed ? 'block' : 'none';\n",
              "    })();\n",
              "  </script>\n",
              "</div>\n",
              "    </div>\n",
              "  </div>\n"
            ]
          },
          "metadata": {},
          "execution_count": 9
        }
      ]
    },
    {
      "cell_type": "markdown",
      "id": "48e03171-26cb-4cf2-a564-2f5bfba6046a",
      "metadata": {
        "id": "48e03171-26cb-4cf2-a564-2f5bfba6046a"
      },
      "source": [
        "## Fit a model to detect outliers\n",
        "\n"
      ]
    },
    {
      "cell_type": "markdown",
      "id": "d3ee14ad-5656-4837-b904-8b7dbccd498c",
      "metadata": {
        "id": "d3ee14ad-5656-4837-b904-8b7dbccd498c"
      },
      "source": [
        "The final thing we can do is to check for outliers. While using an IQR method or tukey outliers is often effective, it's possible to use unsupervised modelling approaches too. Since the dataset is pretty big, this might take a little while to complete.  \n",
        "func-ai -> modelling -> random isolation forests"
      ]
    },
    {
      "cell_type": "code",
      "execution_count": null,
      "id": "0879d4b1-1fe2-49d0-806a-841e85af3909",
      "metadata": {
        "id": "0879d4b1-1fe2-49d0-806a-841e85af3909"
      },
      "outputs": [],
      "source": [
        "\n"
      ]
    }
  ],
  "metadata": {
    "kernelspec": {
      "display_name": "Python 3 (ipykernel)",
      "language": "python",
      "name": "python3"
    },
    "language_info": {
      "codemirror_mode": {
        "name": "ipython",
        "version": 3
      },
      "file_extension": ".py",
      "mimetype": "text/x-python",
      "name": "python",
      "nbconvert_exporter": "python",
      "pygments_lexer": "ipython3",
      "version": "3.9.7"
    },
    "colab": {
      "provenance": []
    }
  },
  "nbformat": 4,
  "nbformat_minor": 5
}